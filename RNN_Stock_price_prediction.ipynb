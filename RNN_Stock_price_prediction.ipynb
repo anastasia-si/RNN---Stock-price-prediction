{
  "nbformat": 4,
  "nbformat_minor": 0,
  "metadata": {
    "colab": {
      "name": "RNN - Stock price prediction.ipynb",
      "provenance": [],
      "collapsed_sections": []
    },
    "kernelspec": {
      "name": "python3",
      "display_name": "Python 3"
    }
  },
  "cells": [
    {
      "cell_type": "code",
      "metadata": {
        "id": "nOsB84br0_S_",
        "colab_type": "code",
        "colab": {}
      },
      "source": [
        "# Recurrent Neural Network\n"
      ],
      "execution_count": 0,
      "outputs": []
    },
    {
      "cell_type": "code",
      "metadata": {
        "id": "TM_VlCeM1AT-",
        "colab_type": "code",
        "colab": {}
      },
      "source": [
        "\n",
        "# Importing the libraries\n",
        "import numpy as np\n",
        "import matplotlib.pyplot as plt\n",
        "import pandas as pd\n",
        "import pandas_datareader.data as web\n",
        "import datetime\n",
        "import math\n",
        "\n",
        "from sklearn.preprocessing import MinMaxScaler\n",
        "from sklearn.metrics import mean_squared_error\n",
        "\n",
        "# Importing the Keras libraries and packages\n",
        "from keras.models import Sequential  # linear stack of layers\n",
        "from keras.layers import Dense\n",
        "from keras.layers import LSTM        # Long Short-Term Memory layer\n",
        "from keras.layers import Dropout     # simple way to prevent overfitting"
      ],
      "execution_count": 0,
      "outputs": []
    },
    {
      "cell_type": "code",
      "metadata": {
        "id": "lspUruAu7a-Z",
        "colab_type": "code",
        "colab": {}
      },
      "source": [
        "# Configuration\n",
        "\n",
        "SHARE = 'AAPL'\n",
        "SERVICE = 'yahoo'\n",
        "\n",
        "PREDICTORS = ['High', 'Low', 'Open']   # column names with prices\n",
        "TARGET = 'Open'\n",
        "\n",
        "TIMESTEP = 60  # the number of previous days used for prediction\n",
        "\n",
        "START_DATE = datetime.datetime(2010, 1, 1)\n",
        "END_DATE = datetime.datetime(2019, 9, 30)\n",
        "\n",
        "START_DATE_TO_PREDICT = datetime.datetime(2019, 10, 1)\n",
        "END_DATE_TO_PREDICT = datetime.datetime(2019, 10, 31)\n",
        "\n",
        "N_EPOCHS = 50\n"
      ],
      "execution_count": 0,
      "outputs": []
    },
    {
      "cell_type": "code",
      "metadata": {
        "id": "IwfQ9AP77sjc",
        "colab_type": "code",
        "colab": {}
      },
      "source": [
        "# Download stock price data\n",
        "df_train = web.DataReader(SHARE, SERVICE, START_DATE, END_DATE)\n",
        "df_test = web.DataReader(SHARE, SERVICE, START_DATE_TO_PREDICT, END_DATE_TO_PREDICT)"
      ],
      "execution_count": 0,
      "outputs": []
    },
    {
      "cell_type": "code",
      "metadata": {
        "id": "OgdzIuuc9Xwj",
        "colab_type": "code",
        "colab": {
          "base_uri": "https://localhost:8080/",
          "height": 235
        },
        "outputId": "83c605d1-6f21-47a3-8004-aedf34300c80"
      },
      "source": [
        "df_test.tail()"
      ],
      "execution_count": 190,
      "outputs": [
        {
          "output_type": "execute_result",
          "data": {
            "text/html": [
              "<div>\n",
              "<style scoped>\n",
              "    .dataframe tbody tr th:only-of-type {\n",
              "        vertical-align: middle;\n",
              "    }\n",
              "\n",
              "    .dataframe tbody tr th {\n",
              "        vertical-align: top;\n",
              "    }\n",
              "\n",
              "    .dataframe thead th {\n",
              "        text-align: right;\n",
              "    }\n",
              "</style>\n",
              "<table border=\"1\" class=\"dataframe\">\n",
              "  <thead>\n",
              "    <tr style=\"text-align: right;\">\n",
              "      <th></th>\n",
              "      <th>High</th>\n",
              "      <th>Low</th>\n",
              "      <th>Open</th>\n",
              "      <th>Close</th>\n",
              "      <th>Volume</th>\n",
              "      <th>Adj Close</th>\n",
              "    </tr>\n",
              "    <tr>\n",
              "      <th>Date</th>\n",
              "      <th></th>\n",
              "      <th></th>\n",
              "      <th></th>\n",
              "      <th></th>\n",
              "      <th></th>\n",
              "      <th></th>\n",
              "    </tr>\n",
              "  </thead>\n",
              "  <tbody>\n",
              "    <tr>\n",
              "      <th>2019-10-14</th>\n",
              "      <td>238.130005</td>\n",
              "      <td>234.669998</td>\n",
              "      <td>234.899994</td>\n",
              "      <td>235.869995</td>\n",
              "      <td>24106900</td>\n",
              "      <td>235.869995</td>\n",
              "    </tr>\n",
              "    <tr>\n",
              "      <th>2019-10-15</th>\n",
              "      <td>237.649994</td>\n",
              "      <td>234.880005</td>\n",
              "      <td>236.389999</td>\n",
              "      <td>235.320007</td>\n",
              "      <td>21840000</td>\n",
              "      <td>235.320007</td>\n",
              "    </tr>\n",
              "    <tr>\n",
              "      <th>2019-10-16</th>\n",
              "      <td>235.240005</td>\n",
              "      <td>233.199997</td>\n",
              "      <td>233.369995</td>\n",
              "      <td>234.369995</td>\n",
              "      <td>18475800</td>\n",
              "      <td>234.369995</td>\n",
              "    </tr>\n",
              "    <tr>\n",
              "      <th>2019-10-17</th>\n",
              "      <td>236.149994</td>\n",
              "      <td>233.520004</td>\n",
              "      <td>235.089996</td>\n",
              "      <td>235.279999</td>\n",
              "      <td>16896300</td>\n",
              "      <td>235.279999</td>\n",
              "    </tr>\n",
              "    <tr>\n",
              "      <th>2019-10-18</th>\n",
              "      <td>237.580002</td>\n",
              "      <td>234.289993</td>\n",
              "      <td>234.589996</td>\n",
              "      <td>236.410004</td>\n",
              "      <td>24358400</td>\n",
              "      <td>236.410004</td>\n",
              "    </tr>\n",
              "  </tbody>\n",
              "</table>\n",
              "</div>"
            ],
            "text/plain": [
              "                  High         Low  ...    Volume   Adj Close\n",
              "Date                                ...                      \n",
              "2019-10-14  238.130005  234.669998  ...  24106900  235.869995\n",
              "2019-10-15  237.649994  234.880005  ...  21840000  235.320007\n",
              "2019-10-16  235.240005  233.199997  ...  18475800  234.369995\n",
              "2019-10-17  236.149994  233.520004  ...  16896300  235.279999\n",
              "2019-10-18  237.580002  234.289993  ...  24358400  236.410004\n",
              "\n",
              "[5 rows x 6 columns]"
            ]
          },
          "metadata": {
            "tags": []
          },
          "execution_count": 190
        }
      ]
    },
    {
      "cell_type": "code",
      "metadata": {
        "id": "Qj5un37iNWd9",
        "colab_type": "code",
        "colab": {}
      },
      "source": [
        "# Data preprocessing\n",
        "\n",
        "# Removing irrelevant columns\n",
        "df_train = df_train[PREDICTORS]\n",
        "df_test = df_test[PREDICTORS]"
      ],
      "execution_count": 0,
      "outputs": []
    },
    {
      "cell_type": "code",
      "metadata": {
        "id": "2YO34sRo1U73",
        "colab_type": "code",
        "colab": {}
      },
      "source": [
        "# Creating numpy 2-dim array for the training set\n",
        "# size N x K, where N - number of observations\n",
        "# K - number of predictors\n",
        "\n",
        "training_set = df_train.values\n"
      ],
      "execution_count": 0,
      "outputs": []
    },
    {
      "cell_type": "code",
      "metadata": {
        "id": "saiVJ7ot_S1I",
        "colab_type": "code",
        "colab": {}
      },
      "source": [
        "# Feature Scaling\n",
        "sc = MinMaxScaler(feature_range = (0, 1))\n",
        "training_set_scaled = sc.fit_transform(training_set)"
      ],
      "execution_count": 0,
      "outputs": []
    },
    {
      "cell_type": "code",
      "metadata": {
        "id": "nThfDpWU_Xsz",
        "colab_type": "code",
        "colab": {}
      },
      "source": [
        "# Creating a data structure with timesteps and 1 output\n",
        "# X_train - 3-dim array size of N x M x K, where \n",
        "# N - number of observations\n",
        "# M - number of previous days (TIMESTEP)\n",
        "# K - number of predictors/indicators\n",
        " \n",
        "X_train = []\n",
        "y_train = []\n",
        "target_col_index = df_train.columns.get_loc(TARGET)\n",
        "for i in range(TIMESTEP, len(training_set)):\n",
        "    X_train.append(training_set_scaled[i-TIMESTEP:i, :])       # X_train - list of Numpy arrays\n",
        "    y_train.append(training_set_scaled[i, target_col_index])\n",
        "X_train, y_train = np.array(X_train), np.array(y_train)        # convert list to Numpy array\n"
      ],
      "execution_count": 0,
      "outputs": []
    },
    {
      "cell_type": "code",
      "metadata": {
        "id": "s7omlI4D1HAj",
        "colab_type": "code",
        "colab": {
          "base_uri": "https://localhost:8080/",
          "height": 1000
        },
        "outputId": "3b0a4a18-21b7-474e-ce3f-3c6fa61e02d2"
      },
      "source": [
        "# Building the RNN\n",
        "\n",
        "\n",
        "# Initialising the RNN\n",
        "regressor = Sequential()\n",
        "\n",
        "# Adding the first LSTM layer and some Dropout regularisation\n",
        "regressor.add(LSTM(units = 50, return_sequences = True, input_shape = (X_train.shape[1], X_train.shape[2])))\n",
        "regressor.add(Dropout(0.2))\n",
        "\n",
        "# Adding a second LSTM layer and some Dropout regularisation\n",
        "regressor.add(LSTM(units = 50, return_sequences = True))\n",
        "regressor.add(Dropout(0.2))\n",
        "\n",
        "# Adding a third LSTM layer and some Dropout regularisation\n",
        "regressor.add(LSTM(units = 50, return_sequences = True))\n",
        "regressor.add(Dropout(0.2))\n",
        "\n",
        "# Adding a fourth LSTM layer and some Dropout regularisation\n",
        "regressor.add(LSTM(units = 50))\n",
        "regressor.add(Dropout(0.2))\n",
        "\n",
        "# Adding the output layer - dense layer \n",
        "# classic fully connected neural network layer : each input node is connected to each output node\n",
        "regressor.add(Dense(units = 1))\n",
        "\n",
        "# Compiling the RNN\n",
        "# use MSE instead RMSE (Root Mean Squared Error) because we are more interested in the directions taken by our predictions, rather than the closeness of their values to the real stock price\n",
        "regressor.compile(optimizer = 'adam', loss = 'mean_squared_error')\n",
        "\n",
        "# Fitting the RNN to the Training set\n",
        "regressor.fit(X_train, y_train, epochs = N_EPOCHS, batch_size = 32)\n",
        "\n"
      ],
      "execution_count": 195,
      "outputs": [
        {
          "output_type": "stream",
          "text": [
            "Epoch 1/50\n",
            "2392/2392 [==============================] - 20s 8ms/step - loss: 0.0186\n",
            "Epoch 2/50\n",
            "2392/2392 [==============================] - 15s 6ms/step - loss: 0.0034\n",
            "Epoch 3/50\n",
            "2392/2392 [==============================] - 15s 6ms/step - loss: 0.0033\n",
            "Epoch 4/50\n",
            "2392/2392 [==============================] - 15s 6ms/step - loss: 0.0029\n",
            "Epoch 5/50\n",
            "2392/2392 [==============================] - 15s 6ms/step - loss: 0.0026\n",
            "Epoch 6/50\n",
            "2392/2392 [==============================] - 15s 6ms/step - loss: 0.0027\n",
            "Epoch 7/50\n",
            "2392/2392 [==============================] - 15s 6ms/step - loss: 0.0026\n",
            "Epoch 8/50\n",
            "2392/2392 [==============================] - 14s 6ms/step - loss: 0.0024\n",
            "Epoch 9/50\n",
            "2392/2392 [==============================] - 14s 6ms/step - loss: 0.0020\n",
            "Epoch 10/50\n",
            "2392/2392 [==============================] - 14s 6ms/step - loss: 0.0023\n",
            "Epoch 11/50\n",
            "2392/2392 [==============================] - 14s 6ms/step - loss: 0.0020\n",
            "Epoch 12/50\n",
            "2392/2392 [==============================] - 14s 6ms/step - loss: 0.0019\n",
            "Epoch 13/50\n",
            "2392/2392 [==============================] - 14s 6ms/step - loss: 0.0021\n",
            "Epoch 14/50\n",
            "2392/2392 [==============================] - 14s 6ms/step - loss: 0.0018\n",
            "Epoch 15/50\n",
            "2392/2392 [==============================] - 14s 6ms/step - loss: 0.0018\n",
            "Epoch 16/50\n",
            "2392/2392 [==============================] - 14s 6ms/step - loss: 0.0017\n",
            "Epoch 17/50\n",
            "2392/2392 [==============================] - 14s 6ms/step - loss: 0.0017\n",
            "Epoch 18/50\n",
            "2392/2392 [==============================] - 14s 6ms/step - loss: 0.0017\n",
            "Epoch 19/50\n",
            "2392/2392 [==============================] - 14s 6ms/step - loss: 0.0017\n",
            "Epoch 20/50\n",
            "2392/2392 [==============================] - 14s 6ms/step - loss: 0.0014\n",
            "Epoch 21/50\n",
            "2392/2392 [==============================] - 14s 6ms/step - loss: 0.0015\n",
            "Epoch 22/50\n",
            "2392/2392 [==============================] - 14s 6ms/step - loss: 0.0014\n",
            "Epoch 23/50\n",
            "2392/2392 [==============================] - 14s 6ms/step - loss: 0.0015\n",
            "Epoch 24/50\n",
            "2392/2392 [==============================] - 14s 6ms/step - loss: 0.0014\n",
            "Epoch 25/50\n",
            "2392/2392 [==============================] - 14s 6ms/step - loss: 0.0013\n",
            "Epoch 26/50\n",
            "2392/2392 [==============================] - 14s 6ms/step - loss: 0.0014\n",
            "Epoch 27/50\n",
            "2392/2392 [==============================] - 14s 6ms/step - loss: 0.0014\n",
            "Epoch 28/50\n",
            "2392/2392 [==============================] - 14s 6ms/step - loss: 0.0013\n",
            "Epoch 29/50\n",
            "2392/2392 [==============================] - 14s 6ms/step - loss: 0.0012\n",
            "Epoch 30/50\n",
            "2392/2392 [==============================] - 14s 6ms/step - loss: 0.0013\n",
            "Epoch 31/50\n",
            "2392/2392 [==============================] - 14s 6ms/step - loss: 0.0012\n",
            "Epoch 32/50\n",
            "2392/2392 [==============================] - 14s 6ms/step - loss: 0.0013\n",
            "Epoch 33/50\n",
            "2392/2392 [==============================] - 14s 6ms/step - loss: 0.0012\n",
            "Epoch 34/50\n",
            "2392/2392 [==============================] - 14s 6ms/step - loss: 0.0013\n",
            "Epoch 35/50\n",
            "2392/2392 [==============================] - 14s 6ms/step - loss: 0.0011\n",
            "Epoch 36/50\n",
            "2392/2392 [==============================] - 14s 6ms/step - loss: 0.0011\n",
            "Epoch 37/50\n",
            "2392/2392 [==============================] - 14s 6ms/step - loss: 0.0011\n",
            "Epoch 38/50\n",
            "2392/2392 [==============================] - 14s 6ms/step - loss: 0.0010\n",
            "Epoch 39/50\n",
            "2392/2392 [==============================] - 14s 6ms/step - loss: 0.0011\n",
            "Epoch 40/50\n",
            "2392/2392 [==============================] - 14s 6ms/step - loss: 0.0011\n",
            "Epoch 41/50\n",
            "2392/2392 [==============================] - 14s 6ms/step - loss: 0.0012\n",
            "Epoch 42/50\n",
            "2392/2392 [==============================] - 14s 6ms/step - loss: 9.9812e-04\n",
            "Epoch 43/50\n",
            "2392/2392 [==============================] - 14s 6ms/step - loss: 9.7623e-04\n",
            "Epoch 44/50\n",
            "2392/2392 [==============================] - 14s 6ms/step - loss: 0.0011\n",
            "Epoch 45/50\n",
            "2392/2392 [==============================] - 14s 6ms/step - loss: 9.6192e-04\n",
            "Epoch 46/50\n",
            "2392/2392 [==============================] - 14s 6ms/step - loss: 0.0011\n",
            "Epoch 47/50\n",
            "2392/2392 [==============================] - 15s 6ms/step - loss: 8.7493e-04\n",
            "Epoch 48/50\n",
            "2392/2392 [==============================] - 14s 6ms/step - loss: 9.7264e-04\n",
            "Epoch 49/50\n",
            "2392/2392 [==============================] - 14s 6ms/step - loss: 9.0556e-04\n",
            "Epoch 50/50\n",
            "2392/2392 [==============================] - 14s 6ms/step - loss: 9.0378e-04\n"
          ],
          "name": "stdout"
        },
        {
          "output_type": "execute_result",
          "data": {
            "text/plain": [
              "<keras.callbacks.History at 0x7f0738d1e1d0>"
            ]
          },
          "metadata": {
            "tags": []
          },
          "execution_count": 195
        }
      ]
    },
    {
      "cell_type": "code",
      "metadata": {
        "id": "1KR6C4wGEnwp",
        "colab_type": "code",
        "colab": {}
      },
      "source": [
        "# Extracting real prices\n",
        "real_stock_price = df_test[TARGET].values\n",
        "\n",
        "# Preparing input data for making predictions\n",
        "df_total = df_train.append(df_test)\n",
        "inputs = df_total[len(df_total) - len(df_test) - TIMESTEP:][PREDICTORS]\n",
        "\n",
        "inputs = sc.transform(inputs)\n",
        "\n",
        "\n",
        "X_test = []\n",
        "for i in range(TIMESTEP, TIMESTEP+len(df_test)):\n",
        "    X_test.append(inputs[i-TIMESTEP:i, :])\n",
        "X_test = np.array(X_test)"
      ],
      "execution_count": 0,
      "outputs": []
    },
    {
      "cell_type": "code",
      "metadata": {
        "id": "s9moCaFHF-m_",
        "colab_type": "code",
        "colab": {}
      },
      "source": [
        "\n",
        "\n",
        "\n",
        "\n"
      ],
      "execution_count": 0,
      "outputs": []
    },
    {
      "cell_type": "code",
      "metadata": {
        "id": "LVr2sizEHSEm",
        "colab_type": "code",
        "colab": {}
      },
      "source": [
        "# Making the predictions\n",
        "\n",
        "predicted_stock_price = regressor.predict(X_test)\n",
        "\n",
        "# to perform inverse scaler transformation, at first we need to transform \n",
        "# 1-dimensional array with predicted prices to 2-dim array of size N x K, \n",
        "# where N = number of observations/predictions. \n",
        "# K = number of predictors\n",
        "\n",
        "temp_matrix = np.zeros((len(predicted_stock_price), len(PREDICTORS)))\n",
        "temp_matrix[:,target_col_index:target_col_index+1] = predicted_stock_price  # temp_matrix[:,[target_col_index]] = predicted_stock_price    \n",
        "\n",
        "predicted_stock_price = sc.inverse_transform(temp_matrix)[:,target_col_index]"
      ],
      "execution_count": 0,
      "outputs": []
    },
    {
      "cell_type": "code",
      "metadata": {
        "id": "hqBC3DK_StlR",
        "colab_type": "code",
        "colab": {}
      },
      "source": [
        ""
      ],
      "execution_count": 0,
      "outputs": []
    },
    {
      "cell_type": "code",
      "metadata": {
        "id": "GsIt0rILPwB2",
        "colab_type": "code",
        "colab": {
          "base_uri": "https://localhost:8080/",
          "height": 319
        },
        "outputId": "a2ed2c27-31d7-4a3f-acfb-9070d68593d0"
      },
      "source": [
        "#df_predicted = pd.DataFrame(index=df_test.index)\n",
        "#df_predicted[TARGET] = predicted_stock_price\n",
        "\n",
        "df_test['Predicted price'] = predicted_stock_price\n",
        "df_test[TARGET].plot(figsize=(16,4),legend=True)\n",
        "df_test['Predicted price'].plot(figsize=(16,4),legend=True)\n",
        "plt.legend(['Real price', 'Predicted price'])\n",
        "plt.title('RNN - ' + SHARE + ' Stock Price Prediction')\n",
        "plt.xlabel('Date')\n",
        "plt.ylabel('Price')\n",
        "plt.show()"
      ],
      "execution_count": 198,
      "outputs": [
        {
          "output_type": "display_data",
          "data": {
            "image/png": "[encoded data removed]",
            "text/plain": [
              "<Figure size 1152x288 with 1 Axes>"
            ]
          },
          "metadata": {
            "tags": []
          }
        }
      ]
    },
    {
      "cell_type": "code",
      "metadata": {
        "id": "v23DT_FkYX6z",
        "colab_type": "code",
        "colab": {
          "base_uri": "https://localhost:8080/",
          "height": 34
        },
        "outputId": "683c1979-00d0-4b8f-bfa6-d5b887a6e38c"
      },
      "source": [
        "# Evaluating model\n",
        "rmse = math.sqrt(mean_squared_error(real_stock_price, predicted_stock_price))\n",
        "print(\"The RMSE is {:.3f}.\".format(rmse))"
      ],
      "execution_count": 199,
      "outputs": [
        {
          "output_type": "stream",
          "text": [
            "The RMSE is 7.320.\n"
          ],
          "name": "stdout"
        }
      ]
    },
    {
      "cell_type": "code",
      "metadata": {
        "id": "XA5FgeUESIEV",
        "colab_type": "code",
        "colab": {}
      },
      "source": [
        ""
      ],
      "execution_count": 0,
      "outputs": []
    }
  ]
}